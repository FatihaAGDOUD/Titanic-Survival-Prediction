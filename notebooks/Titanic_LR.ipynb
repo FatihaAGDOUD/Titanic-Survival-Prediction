{
 "cells": [
  {
   "cell_type": "code",
   "execution_count": 15,
   "id": "46014c56-9a20-438f-acc3-1e695fce105f",
   "metadata": {},
   "outputs": [],
   "source": [
    "from pyspark.sql import SparkSession\n",
    "from pyspark.sql.functions import col, mean\n",
    "from pyspark.ml.feature import StringIndexer, VectorAssembler\n",
    "from pyspark.ml.classification import LogisticRegression\n",
    "from pyspark.ml.evaluation import BinaryClassificationEvaluator\n",
    "from sklearn.metrics import precision_recall_curve, PrecisionRecallDisplay\n",
    "import matplotlib.pyplot as plt"
   ]
  },
  {
   "cell_type": "code",
   "execution_count": 16,
   "id": "2f10a12b-126b-4e19-8d15-b5df1a46ebd5",
   "metadata": {},
   "outputs": [],
   "source": [
    "# Initialisation de Spark\n",
    "spark = SparkSession.builder.appName(\"Titanic_Classification\")  \\\n",
    "    .config(\"spark.master\",\"spark://spark-master:7077\")\\\n",
    "    .getOrCreate()"
   ]
  },
  {
   "cell_type": "code",
   "execution_count": 17,
   "id": "21e6fb6a-6914-4a16-a979-76a1352f936f",
   "metadata": {},
   "outputs": [],
   "source": [
    "# Charger les données depuis HDFS (ou une autre source)\n",
    "data_path = \"hdfs://namenode:9000/user/data/titanic.csv\"\n",
    "df = spark.read.csv(data_path, header=True, inferSchema=True)"
   ]
  },
  {
   "cell_type": "code",
   "execution_count": 18,
   "id": "925e2bfd-2d98-43e8-8d3f-df9c03550383",
   "metadata": {},
   "outputs": [],
   "source": [
    "# Filtrer et sélectionner les colonnes utiles\n",
    "df = df.select(\n",
    "    col(\"Survived\").alias(\"label\"),  # Étiquette : survie (0 ou 1)\n",
    "    \"Pclass\",     # Classe du passager\n",
    "    \"Sex\",        # Sexe\n",
    "    \"Age\",        # Âge\n",
    "    \"SibSp\",      # Nombre de frères et sœurs/époux à bord\n",
    "    \"Parch\",      # Nombre de parents/enfants à bord\n",
    "    \"Fare\",       # Tarif payé\n",
    "    \"Embarked\"    # Port d'embarquement\n",
    ")"
   ]
  },
  {
   "cell_type": "code",
   "execution_count": 19,
   "id": "e889fe4b-c825-44fc-9ff9-76319fc2716a",
   "metadata": {},
   "outputs": [],
   "source": [
    "# Remplacer les valeurs manquantes par la moyenne pour les colonnes numériques\n",
    "numerical_cols = [\"Age\", \"SibSp\", \"Parch\", \"Fare\"]\n",
    "for col_name in numerical_cols:\n",
    "    mean_value = df.select(mean(col(col_name))).collect()[0][0]\n",
    "    df = df.fillna({col_name: mean_value})"
   ]
  },
  {
   "cell_type": "code",
   "execution_count": 20,
   "id": "17881ea8-0d02-4214-898d-8472b2cd206d",
   "metadata": {},
   "outputs": [],
   "source": [
    "# Encodage des variables catégoriques avec gestion des valeurs nulles\n",
    "sex_indexer = StringIndexer(inputCol=\"Sex\", outputCol=\"SexIndex\", handleInvalid=\"skip\")\n",
    "embarked_indexer = StringIndexer(inputCol=\"Embarked\", outputCol=\"EmbarkedIndex\", handleInvalid=\"skip\")\n",
    "df = sex_indexer.fit(df).transform(df)\n",
    "df = embarked_indexer.fit(df).transform(df)"
   ]
  },
  {
   "cell_type": "code",
   "execution_count": 21,
   "id": "087ac121-330c-4814-9de0-744fcd2e851a",
   "metadata": {},
   "outputs": [],
   "source": [
    "# Assembleur pour créer un vecteur de features\n",
    "assembler = VectorAssembler(\n",
    "    inputCols=[\"Pclass\", \"SexIndex\", \"Age\", \"SibSp\", \"Parch\", \"Fare\", \"EmbarkedIndex\"],\n",
    "    outputCol=\"features\"\n",
    ")\n",
    "df = assembler.transform(df)"
   ]
  },
  {
   "cell_type": "code",
   "execution_count": 22,
   "id": "c8c163e7-1e77-487d-8730-55f0109f7419",
   "metadata": {},
   "outputs": [],
   "source": [
    "# Diviser les données en ensembles d'entraînement et de test\n",
    "train_data, test_data = df.randomSplit([0.8, 0.2], seed=42)"
   ]
  },
  {
   "cell_type": "code",
   "execution_count": 23,
   "id": "5be1e151-b8bf-47ce-bed8-66d28bfa0727",
   "metadata": {},
   "outputs": [],
   "source": [
    "\n",
    "# Modèle de régression logistique pour la classification binaire\n",
    "lr = LogisticRegression(featuresCol=\"features\", labelCol=\"label\")"
   ]
  },
  {
   "cell_type": "code",
   "execution_count": 24,
   "id": "eb318063-b5d6-4e20-b9a2-98d7bf2246f3",
   "metadata": {},
   "outputs": [],
   "source": [
    "# Validation croisée\n",
    "from pyspark.ml.tuning import CrossValidator, ParamGridBuilder"
   ]
  },
  {
   "cell_type": "code",
   "execution_count": 25,
   "id": "243bb1e3-f485-4940-a115-da8ff75ae809",
   "metadata": {},
   "outputs": [],
   "source": [
    "# Grille de paramètres\n",
    "paramGrid = ParamGridBuilder().addGrid(lr.regParam, [0.01, 0.1, 1.0]).build()"
   ]
  },
  {
   "cell_type": "code",
   "execution_count": 26,
   "id": "f0864195-5d87-473f-a4df-6f4229b1200d",
   "metadata": {},
   "outputs": [],
   "source": [
    "# Évaluateur\n",
    "evaluator = BinaryClassificationEvaluator(labelCol=\"label\", metricName=\"areaUnderROC\")\n"
   ]
  },
  {
   "cell_type": "code",
   "execution_count": 27,
   "id": "6a0f75cb-2e99-49b8-9936-c7caffeeb13c",
   "metadata": {},
   "outputs": [],
   "source": [
    "# CrossValidator\n",
    "crossval = CrossValidator(estimator=lr, estimatorParamMaps=paramGrid, evaluator=evaluator, numFolds=5)\n"
   ]
  },
  {
   "cell_type": "code",
   "execution_count": 28,
   "id": "3a410e6d-b79a-49f3-be06-fe2a906097be",
   "metadata": {},
   "outputs": [],
   "source": [
    "# Entraînement avec validation croisée\n",
    "cv_model = crossval.fit(train_data)"
   ]
  },
  {
   "cell_type": "code",
   "execution_count": 29,
   "id": "fb0cd1a5-22f6-41f6-ad84-91faec24afd6",
   "metadata": {},
   "outputs": [],
   "source": [
    "# Meilleur modèle\n",
    "tuned_model = cv_model.bestModel"
   ]
  },
  {
   "cell_type": "code",
   "execution_count": 30,
   "id": "7e0a6bea-d1bf-4119-9715-79ec2820fcbd",
   "metadata": {},
   "outputs": [],
   "source": [
    "# Évaluation sur l'ensemble de test\n",
    "predictions = tuned_model.transform(test_data)"
   ]
  },
  {
   "cell_type": "code",
   "execution_count": 31,
   "id": "d9c42769-55bf-447a-85f3-ef64170af72e",
   "metadata": {},
   "outputs": [],
   "source": [
    "# Extraction des probabilités et des labels\n",
    "predictions_df = predictions.select(\"label\", \"probability\").toPandas()"
   ]
  },
  {
   "cell_type": "code",
   "execution_count": 32,
   "id": "aafa1632-4e6a-40d0-92fa-24312325fae5",
   "metadata": {},
   "outputs": [],
   "source": [
    "# Calcul de la courbe Precision-Recall\n",
    "precision, recall, _ = precision_recall_curve(predictions_df[\"label\"], predictions_df[\"probability\"].apply(lambda x: x[1]))\n"
   ]
  },
  {
   "cell_type": "code",
   "execution_count": 33,
   "id": "9606fac1-3404-4cbe-b603-8e1550dda616",
   "metadata": {},
   "outputs": [
    {
     "data": {
      "image/png": "[encoded data removed]",
      "text/plain": [
       "<Figure size 640x480 with 1 Axes>"
      ]
     },
     "metadata": {},
     "output_type": "display_data"
    }
   ],
   "source": [
    "# Affichage de la courbe Precision-Recall\n",
    "PrecisionRecallDisplay(precision=precision, recall=recall).plot()\n",
    "plt.title(\"Precision-Recall Curve\")\n",
    "plt.show()"
   ]
  },
  {
   "cell_type": "code",
   "execution_count": 34,
   "id": "861922a0-7d0a-46b4-abc8-f9521451cd76",
   "metadata": {},
   "outputs": [
    {
     "name": "stdout",
     "output_type": "stream",
     "text": [
      "AUC (Area Under Curve): 0.8598286269402463\n"
     ]
    }
   ],
   "source": [
    "# Afficher les métriques d'évaluation finales\n",
    "auc = evaluator.evaluate(predictions)\n",
    "print(f\"AUC (Area Under Curve): {auc}\")"
   ]
  },
  {
   "cell_type": "code",
   "execution_count": 36,
   "id": "aff7706b-88cb-43e6-baa6-98dfb1a8322d",
   "metadata": {},
   "outputs": [
    {
     "data": {
      "image/png": "[encoded data removed]",
      "text/plain": [
       "<Figure size 640x480 with 2 Axes>"
      ]
     },
     "metadata": {},
     "output_type": "display_data"
    }
   ],
   "source": [
    "from pyspark.ml.evaluation import BinaryClassificationEvaluator\n",
    "from sklearn.metrics import confusion_matrix, ConfusionMatrixDisplay\n",
    "import matplotlib.pyplot as plt\n",
    "\n",
    "# Calcul et affichage de la matrice de confusion\n",
    "conf_matrix = confusion_matrix(predictions_df[\"label\"], predictions_df[\"prediction\"])\n",
    "disp = ConfusionMatrixDisplay(confusion_matrix=conf_matrix, display_labels=[0.0, 1.0])\n",
    "disp.plot(cmap=plt.cm.Blues)\n",
    "plt.title(\"Confusion Matrix\")\n",
    "plt.show()"
   ]
  },
  {
   "cell_type": "code",
   "execution_count": 37,
   "id": "e8d93406-78b4-4788-b5a9-2dcf10a36ad4",
   "metadata": {},
   "outputs": [
    {
     "name": "stdout",
     "output_type": "stream",
     "text": [
      "Precision: 0.80\n",
      "Recall: 0.68\n",
      "Accuracy: 0.81\n"
     ]
    }
   ],
   "source": [
    "from sklearn.metrics import (\n",
    "    precision_score,\n",
    "    recall_score,\n",
    "    accuracy_score\n",
    ")\n",
    "# Calcul des métriques\n",
    "precision = precision_score(predictions_df[\"label\"], predictions_df[\"prediction\"])\n",
    "recall = recall_score(predictions_df[\"label\"], predictions_df[\"prediction\"])\n",
    "accuracy = accuracy_score(predictions_df[\"label\"], predictions_df[\"prediction\"])\n",
    "\n",
    "# Affichage des métriques\n",
    "print(f\"Precision: {precision:.2f}\")\n",
    "print(f\"Recall: {recall:.2f}\")\n",
    "print(f\"Accuracy: {accuracy:.2f}\")"
   ]
  },
  {
   "cell_type": "code",
   "execution_count": null,
   "id": "5d96176e-6ca6-482d-9450-00cf93c13a89",
   "metadata": {},
   "outputs": [],
   "source": []
  }
 ],
 "metadata": {
  "kernelspec": {
   "display_name": "Python 3 (ipykernel)",
   "language": "python",
   "name": "python3"
  },
  "language_info": {
   "codemirror_mode": {
    "name": "ipython",
    "version": 3
   },
   "file_extension": ".py",
   "mimetype": "text/x-python",
   "name": "python",
   "nbconvert_exporter": "python",
   "pygments_lexer": "ipython3",
   "version": "3.11.6"
  }
 },
 "nbformat": 4,
 "nbformat_minor": 5
}
