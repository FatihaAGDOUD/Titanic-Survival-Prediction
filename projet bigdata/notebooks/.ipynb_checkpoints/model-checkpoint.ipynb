{
 "cells": [
  {
   "cell_type": "code",
   "execution_count": 1,
   "id": "823459b1-77cb-4569-a68f-87c8d568d8ea",
   "metadata": {},
   "outputs": [],
   "source": [
    "from pyspark.sql import SparkSession\n",
    "from pyspark.sql.functions import col\n",
    "from pyspark.ml.feature import StringIndexer, VectorAssembler\n",
    "from pyspark.ml.regression import LinearRegression\n",
    "from pyspark.ml.evaluation import RegressionEvaluator"
   ]
  },
  {
   "cell_type": "code",
   "execution_count": 2,
   "id": "0d9c635c-43b4-454d-96d2-ccdea0a91b42",
   "metadata": {},
   "outputs": [],
   "source": [
    "# Initialisation de Spark\n",
    "spark = SparkSession.builder.appName(\"NYC_Taxi_Trip_Analysis\")  \\\n",
    "    .config(\"spark.master\",\"spark://spark-master:7077\")\\\n",
    "    .getOrCreate()"
   ]
  },
  {
   "cell_type": "code",
   "execution_count": 4,
   "id": "a4b4171a-8f3e-4db1-840e-17fa57f02109",
   "metadata": {},
   "outputs": [],
   "source": [
    "# Charger les données depuis HDFS (ou une autre source)\n",
    "data_path = \"hdfs://namenode:9000/user/data/tripdata.csv\"\n",
    "df = spark.read.csv(data_path, header=True, inferSchema=True)"
   ]
  },
  {
   "cell_type": "code",
   "execution_count": 5,
   "id": "6237fb63-2398-4bc2-ba1d-3a4da8a0936f",
   "metadata": {},
   "outputs": [
    {
     "name": "stdout",
     "output_type": "stream",
     "text": [
      "root\n",
      " |-- VendorID: integer (nullable = true)\n",
      " |-- tpep_pickup_datetime: timestamp (nullable = true)\n",
      " |-- tpep_dropoff_datetime: timestamp (nullable = true)\n",
      " |-- passenger_count: double (nullable = true)\n",
      " |-- trip_distance: double (nullable = true)\n",
      " |-- pickup_longitude: double (nullable = true)\n",
      " |-- pickup_latitude: double (nullable = true)\n",
      " |-- RateCodeID: double (nullable = true)\n",
      " |-- store_and_fwd_flag: string (nullable = true)\n",
      " |-- dropoff_longitude: double (nullable = true)\n",
      " |-- dropoff_latitude: double (nullable = true)\n",
      " |-- payment_type: double (nullable = true)\n",
      " |-- fare_amount: double (nullable = true)\n",
      " |-- extra: double (nullable = true)\n",
      " |-- mta_tax: double (nullable = true)\n",
      " |-- tip_amount: double (nullable = true)\n",
      " |-- tolls_amount: double (nullable = true)\n",
      " |-- improvement_surcharge: double (nullable = true)\n",
      " |-- total_amount: double (nullable = true)\n",
      "\n"
     ]
    }
   ],
   "source": [
    "# Afficher les colonnes pour comprendre la structure des données\n",
    "df.printSchema()"
   ]
  },
  {
   "cell_type": "code",
   "execution_count": 6,
   "id": "79e1d16e-74e7-455c-857c-b783b2d36a6b",
   "metadata": {},
   "outputs": [],
   "source": [
    "# Filtrer et sélectionner les colonnes utiles\n",
    "df = df.select(\n",
    "    \"trip_distance\",   # Distance du trajet\n",
    "    \"passenger_count\", # Nombre de passagers\n",
    "    \"fare_amount\",     # Montant payé\n",
    "    \"payment_type\",    # Type de paiement (catégorique)\n",
    "    \"tip_amount\",      # Pourboire (valeur cible)\n",
    ")"
   ]
  },
  {
   "cell_type": "code",
   "execution_count": 7,
   "id": "abf66f3d-5aab-4bd0-8881-87f3e99b8e6c",
   "metadata": {},
   "outputs": [],
   "source": [
    "# Supprimer les lignes avec des valeurs nulles\n",
    "df = df.dropna()"
   ]
  },
  {
   "cell_type": "code",
   "execution_count": 9,
   "id": "8e0e0d32-594d-4796-9a74-2eebfbb49782",
   "metadata": {},
   "outputs": [],
   "source": [
    "# Encodage des variables catégoriques (ex. payment_type)\n",
    "indexer = StringIndexer(inputCol=\"payment_type\", outputCol=\"payment_type_index\")\n",
    "df = indexer.fit(df).transform(df)"
   ]
  },
  {
   "cell_type": "code",
   "execution_count": 10,
   "id": "547ae484-43ad-4695-b9df-adce97316222",
   "metadata": {},
   "outputs": [],
   "source": [
    "# Assembleur pour créer un vecteur de features\n",
    "assembler = VectorAssembler(\n",
    "    inputCols=[\"trip_distance\", \"passenger_count\", \"fare_amount\", \"payment_type_index\"],\n",
    "    outputCol=\"features\"\n",
    ")\n",
    "df = assembler.transform(df)"
   ]
  },
  {
   "cell_type": "code",
   "execution_count": 11,
   "id": "cd7235c0-a915-4593-a36c-a98cc2bf42d6",
   "metadata": {},
   "outputs": [],
   "source": [
    "# Diviser les données en ensembles d'entraînement et de test\n",
    "train_data, test_data = df.randomSplit([0.8, 0.2], seed=42)"
   ]
  },
  {
   "cell_type": "code",
   "execution_count": 12,
   "id": "cf59338f-884d-4757-8777-cd20585c9c23",
   "metadata": {},
   "outputs": [],
   "source": [
    "# Modèle de régression linéaire pour prédire le montant des pourboires\n",
    "lr = LinearRegression(featuresCol=\"features\", labelCol=\"tip_amount\")\n",
    "model = lr.fit(train_data)"
   ]
  },
  {
   "cell_type": "code",
   "execution_count": 13,
   "id": "66cea15f-bb81-4254-99d1-18bc0722ae27",
   "metadata": {},
   "outputs": [],
   "source": [
    "# Évaluation sur l'ensemble de test\n",
    "predictions = model.transform(test_data)"
   ]
  },
  {
   "cell_type": "code",
   "execution_count": 14,
   "id": "2b4eb62f-7b5d-460a-98a4-03bc466d2670",
   "metadata": {},
   "outputs": [
    {
     "name": "stdout",
     "output_type": "stream",
     "text": [
      "Root Mean Squared Error (RMSE): 1.781677257048296\n"
     ]
    }
   ],
   "source": [
    "# Évaluation des performances du modèle\n",
    "evaluator = RegressionEvaluator(\n",
    "    labelCol=\"tip_amount\", \n",
    "    predictionCol=\"prediction\", \n",
    "    metricName=\"rmse\"\n",
    ")\n",
    "rmse = evaluator.evaluate(predictions)\n",
    "print(f\"Root Mean Squared Error (RMSE): {rmse}\")"
   ]
  },
  {
   "cell_type": "code",
   "execution_count": 15,
   "id": "70e69d3b-8692-43d9-b0d9-d38c733a4627",
   "metadata": {},
   "outputs": [
    {
     "name": "stdout",
     "output_type": "stream",
     "text": [
      "+-------------+-----------+----------+-------------------+\n",
      "|trip_distance|fare_amount|tip_amount|         prediction|\n",
      "+-------------+-----------+----------+-------------------+\n",
      "|          0.0|        0.0|       0.0|-3.3664751490020435|\n",
      "|          0.0|        1.0|       0.0|-1.0226114205335999|\n",
      "|          0.0|        2.5|       0.0|-3.0870190477283823|\n",
      "|          0.0|        8.8|       0.0| 2.0813729033992026|\n",
      "|          0.0|       19.5|       0.0|  3.277445016850472|\n",
      "|          0.0|      -68.0|       0.0|-10.979599898782944|\n",
      "|          0.0|      -52.0|       0.0| -9.191080850631511|\n",
      "|          0.0|      -10.8|       0.0| -6.817725589600556|\n",
      "|          0.0|       -3.0|       0.0| -3.713741265667753|\n",
      "|          0.0|       -2.5|       0.0|-1.4257687574540419|\n",
      "+-------------+-----------+----------+-------------------+\n",
      "only showing top 10 rows\n",
      "\n"
     ]
    }
   ],
   "source": [
    "# Résultats du modèle\n",
    "predictions.select(\"trip_distance\", \"fare_amount\", \"tip_amount\", \"prediction\").show(10)"
   ]
  },
  {
   "cell_type": "code",
   "execution_count": null,
   "id": "27d70d8e-b8b4-4746-9cb6-7016233e22f4",
   "metadata": {},
   "outputs": [],
   "source": [
    "# Arrêter la session Spark\n",
    "spark.stop()"
   ]
  }
 ],
 "metadata": {
  "kernelspec": {
   "display_name": "Python 3 (ipykernel)",
   "language": "python",
   "name": "python3"
  },
  "language_info": {
   "codemirror_mode": {
    "name": "ipython",
    "version": 3
   },
   "file_extension": ".py",
   "mimetype": "text/x-python",
   "name": "python",
   "nbconvert_exporter": "python",
   "pygments_lexer": "ipython3",
   "version": "3.11.6"
  }
 },
 "nbformat": 4,
 "nbformat_minor": 5
}
